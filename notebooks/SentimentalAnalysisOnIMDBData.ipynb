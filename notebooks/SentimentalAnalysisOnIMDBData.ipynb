{
 "cells": [
  {
   "cell_type": "markdown",
   "id": "494d4a93-f958-4e25-87b9-6f32f517697e",
   "metadata": {},
   "source": [
    "## Import needed libraries"
   ]
  },
  {
   "cell_type": "code",
   "execution_count": 1,
   "id": "63979198-ab5d-4ddc-bd37-10301c3a65d5",
   "metadata": {},
   "outputs": [],
   "source": [
    "import numpy as np\n",
    "import pandas as pd\n",
    "import matplotlib.pyplot as plt\n",
    "import seaborn as sns\n",
    "import sys"
   ]
  },
  {
   "cell_type": "code",
   "execution_count": 4,
   "id": "94c09714-0558-41fc-bc26-6bc41a59e096",
   "metadata": {},
   "outputs": [],
   "source": [
    "sys.path.append(\"../Scripts\")\n",
    "sys.path.append(\"../data/acIImdb/train\")"
   ]
  },
  {
   "cell_type": "code",
   "execution_count": 3,
   "id": "33c8bcba-19af-4362-afb6-ffaae24bd561",
   "metadata": {},
   "outputs": [],
   "source": [
    "import Convert_to_pandas_df as utils"
   ]
  },
  {
   "cell_type": "code",
   "execution_count": 10,
   "id": "7f9ed881-af65-43b5-911c-ba3acca474c3",
   "metadata": {},
   "outputs": [
    {
     "name": "stdout",
     "output_type": "stream",
     "text": [
      "Searching ../data/aclImdb/train/pos to find the contents.\n",
      "Starting to extract text of the folder ../data/aclImdb/train/pos.\n",
      "Searching ../data/aclImdb/train/neg to find the contents.\n",
      "Starting to extract text of the folder ../data/aclImdb/train/neg.\n"
     ]
    }
   ],
   "source": [
    "file_path = \"../data/aclImdb/train\"\n",
    "df = utils.extract(file_path)\n"
   ]
  },
  {
   "cell_type": "code",
   "execution_count": 11,
   "id": "c686f7c0-5b71-445b-b12c-735d125f39fe",
   "metadata": {},
   "outputs": [
    {
     "data": {
      "text/html": [
       "<div>\n",
       "<style scoped>\n",
       "    .dataframe tbody tr th:only-of-type {\n",
       "        vertical-align: middle;\n",
       "    }\n",
       "\n",
       "    .dataframe tbody tr th {\n",
       "        vertical-align: top;\n",
       "    }\n",
       "\n",
       "    .dataframe thead th {\n",
       "        text-align: right;\n",
       "    }\n",
       "</style>\n",
       "<table border=\"1\" class=\"dataframe\">\n",
       "  <thead>\n",
       "    <tr style=\"text-align: right;\">\n",
       "      <th></th>\n",
       "      <th>sentiment</th>\n",
       "      <th>overview</th>\n",
       "    </tr>\n",
       "  </thead>\n",
       "  <tbody>\n",
       "    <tr>\n",
       "      <th>0</th>\n",
       "      <td>1</td>\n",
       "      <td>Bromwell High is a cartoon comedy. It ran at t...</td>\n",
       "    </tr>\n",
       "    <tr>\n",
       "      <th>1</th>\n",
       "      <td>1</td>\n",
       "      <td>Homelessness (or Houselessness as George Carli...</td>\n",
       "    </tr>\n",
       "    <tr>\n",
       "      <th>2</th>\n",
       "      <td>1</td>\n",
       "      <td>Brilliant over-acting by Lesley Ann Warren. Be...</td>\n",
       "    </tr>\n",
       "    <tr>\n",
       "      <th>3</th>\n",
       "      <td>1</td>\n",
       "      <td>This is easily the most underrated film inn th...</td>\n",
       "    </tr>\n",
       "    <tr>\n",
       "      <th>4</th>\n",
       "      <td>1</td>\n",
       "      <td>This is not the typical Mel Brooks film. It wa...</td>\n",
       "    </tr>\n",
       "  </tbody>\n",
       "</table>\n",
       "</div>"
      ],
      "text/plain": [
       "   sentiment                                           overview\n",
       "0          1  Bromwell High is a cartoon comedy. It ran at t...\n",
       "1          1  Homelessness (or Houselessness as George Carli...\n",
       "2          1  Brilliant over-acting by Lesley Ann Warren. Be...\n",
       "3          1  This is easily the most underrated film inn th...\n",
       "4          1  This is not the typical Mel Brooks film. It wa..."
      ]
     },
     "execution_count": 11,
     "metadata": {},
     "output_type": "execute_result"
    }
   ],
   "source": [
    "df.head()"
   ]
  },
  {
   "cell_type": "code",
   "execution_count": 18,
   "id": "e2fdf77d-e12f-40d4-8374-2235c89129f2",
   "metadata": {},
   "outputs": [
    {
     "data": {
      "text/plain": [
       "array([1, 0], dtype=int64)"
      ]
     },
     "execution_count": 18,
     "metadata": {},
     "output_type": "execute_result"
    }
   ],
   "source": [
    "df.sentiment.unique()"
   ]
  },
  {
   "cell_type": "code",
   "execution_count": null,
   "id": "b4eaaff9-edd9-4d1c-9ef5-35f20ef066c0",
   "metadata": {},
   "outputs": [],
   "source": []
  }
 ],
 "metadata": {
  "kernelspec": {
   "display_name": "Python 3 (ipykernel)",
   "language": "python",
   "name": "python3"
  },
  "language_info": {
   "codemirror_mode": {
    "name": "ipython",
    "version": 3
   },
   "file_extension": ".py",
   "mimetype": "text/x-python",
   "name": "python",
   "nbconvert_exporter": "python",
   "pygments_lexer": "ipython3",
   "version": "3.12.3"
  }
 },
 "nbformat": 4,
 "nbformat_minor": 5
}
